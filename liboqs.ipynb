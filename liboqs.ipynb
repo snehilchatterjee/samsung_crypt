{
 "cells": [
  {
   "cell_type": "code",
   "execution_count": 1,
   "metadata": {},
   "outputs": [
    {
     "name": "stdout",
     "output_type": "stream",
     "text": [
      "liboqs version: 0.10.0\n",
      "liboqs-python version: 0.10.0\n",
      "Enabled KEM mechanisms:\n",
      "['BIKE-L1', 'BIKE-L3', 'BIKE-L5', 'Classic-McEliece-348864',\n",
      " 'Classic-McEliece-348864f', 'Classic-McEliece-460896',\n",
      " 'Classic-McEliece-460896f', 'Classic-McEliece-6688128',\n",
      " 'Classic-McEliece-6688128f', 'Classic-McEliece-6960119',\n",
      " 'Classic-McEliece-6960119f', 'Classic-McEliece-8192128',\n",
      " 'Classic-McEliece-8192128f', 'HQC-128', 'HQC-192', 'HQC-256', 'Kyber512',\n",
      " 'Kyber768', 'Kyber1024', 'ML-KEM-512-ipd', 'ML-KEM-512', 'ML-KEM-768-ipd',\n",
      " 'ML-KEM-768', 'ML-KEM-1024-ipd', 'ML-KEM-1024', 'sntrup761',\n",
      " 'FrodoKEM-640-AES', 'FrodoKEM-640-SHAKE', 'FrodoKEM-976-AES',\n",
      " 'FrodoKEM-976-SHAKE', 'FrodoKEM-1344-AES', 'FrodoKEM-1344-SHAKE']\n",
      "\n",
      "Key encapsulation details:\n",
      "{'claimed_nist_level': 1,\n",
      " 'is_ind_cca': True,\n",
      " 'length_ciphertext': 768,\n",
      " 'length_public_key': 800,\n",
      " 'length_secret_key': 1632,\n",
      " 'length_shared_secret': 32,\n",
      " 'name': 'Kyber512',\n",
      " 'version': 'https://github.com/pq-crystals/kyber/commit/74cad307858b61e434490c75f812cb9b9ef7279b'}\n",
      "\n",
      "Shared secretes coincide: True\n"
     ]
    }
   ],
   "source": [
    "import oqs\n",
    "from pprint import pprint\n",
    "\n",
    "print(\"liboqs version:\", oqs.oqs_version())\n",
    "print(\"liboqs-python version:\", oqs.oqs_python_version())\n",
    "print(\"Enabled KEM mechanisms:\")\n",
    "kems = oqs.get_enabled_kem_mechanisms()\n",
    "pprint(kems, compact=True)\n",
    "\n",
    "# Create client and server with sample KEM mechanisms\n",
    "kemalg = \"Kyber512\"\n",
    "with oqs.KeyEncapsulation(kemalg) as client:\n",
    "    with oqs.KeyEncapsulation(kemalg) as server:\n",
    "        print(\"\\nKey encapsulation details:\")\n",
    "        pprint(client.details)\n",
    "\n",
    "        # Client generates its keypair\n",
    "        public_key_client = client.generate_keypair()\n",
    "        # Optionally, the secret key can be obtained by calling export_secret_key()\n",
    "        # and the client can later be re-instantiated with the key pair:\n",
    "        # secret_key_client = client.export_secret_key()\n",
    "\n",
    "        # Store key pair, wait... (session resumption):\n",
    "        # client = oqs.KeyEncapsulation(kemalg, secret_key_client)\n",
    "\n",
    "        # The server encapsulates its secret using the client's public key\n",
    "        ciphertext, shared_secret_server = server.encap_secret(public_key_client)\n",
    "\n",
    "        # The client decapsulates the server's ciphertext to obtain the shared secret\n",
    "        shared_secret_client = client.decap_secret(ciphertext)\n",
    "        \n",
    "        print(\n",
    "            \"\\nShared secretes coincide:\", shared_secret_client == shared_secret_server\n",
    "        )"
   ]
  },
  {
   "cell_type": "code",
   "execution_count": null,
   "metadata": {},
   "outputs": [],
   "source": []
  }
 ],
 "metadata": {
  "kernelspec": {
   "display_name": "prism",
   "language": "python",
   "name": "python3"
  },
  "language_info": {
   "codemirror_mode": {
    "name": "ipython",
    "version": 3
   },
   "file_extension": ".py",
   "mimetype": "text/x-python",
   "name": "python",
   "nbconvert_exporter": "python",
   "pygments_lexer": "ipython3",
   "version": "3.10.12"
  }
 },
 "nbformat": 4,
 "nbformat_minor": 2
}
